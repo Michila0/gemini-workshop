{
 "cells": [
  {
   "cell_type": "code",
   "execution_count": 7,
   "metadata": {},
   "outputs": [],
   "source": [
    "import requests\n",
    "from vertexai.generative_models import (\n",
    "    Content,\n",
    "    FunctionDeclaration,\n",
    "    GenerativeModel,\n",
    "    Part,\n",
    "    Tool,\n",
    ")\n",
    "\n",
    "model = GenerativeModel(\"gemini-1.5-pro-001\")"
   ]
  },
  {
   "cell_type": "code",
   "execution_count": 8,
   "metadata": {},
   "outputs": [],
   "source": [
    "get_exchange_rate_func = FunctionDeclaration(\n",
    "    name=\"get_exchange_rate\",\n",
    "    description=\"Get the exchange rate for currencies between countries\",\n",
    "    parameters={\n",
    "    \"type\": \"object\",\n",
    "    \"properties\": {\n",
    "        \"currency_date\": {\n",
    "            \"type\": \"string\",\n",
    "            \"description\": \"A date that must always be in YYYY-MM-DD format or the value 'latest' if a time period is not specified\"\n",
    "        },\n",
    "        \"currency_from\": {\n",
    "            \"type\": \"string\",\n",
    "            \"description\": \"The currency to convert from in ISO 4217 format\"\n",
    "        },\n",
    "        \"currency_to\": {\n",
    "            \"type\": \"string\",\n",
    "            \"description\": \"The currency to convert to in ISO 4217 format\"\n",
    "        }\n",
    "    },\n",
    "         \"required\": [\n",
    "            \"currency_from\",\n",
    "            \"currency_date\",\n",
    "      ]\n",
    "  },\n",
    ")"
   ]
  },
  {
   "cell_type": "code",
   "execution_count": 3,
   "metadata": {},
   "outputs": [
    {
     "data": {
      "text/plain": [
       "role: \"model\"\n",
       "parts {\n",
       "  function_call {\n",
       "    name: \"get_exchange_rate\"\n",
       "    args {\n",
       "      fields {\n",
       "        key: \"currency_to\"\n",
       "        value {\n",
       "          string_value: \"SEK\"\n",
       "        }\n",
       "      }\n",
       "      fields {\n",
       "        key: \"currency_from\"\n",
       "        value {\n",
       "          string_value: \"AUD\"\n",
       "        }\n",
       "      }\n",
       "      fields {\n",
       "        key: \"currency_date\"\n",
       "        value {\n",
       "          string_value: \"latest\"\n",
       "        }\n",
       "      }\n",
       "    }\n",
       "  }\n",
       "}"
      ]
     },
     "execution_count": 3,
     "metadata": {},
     "output_type": "execute_result"
    }
   ],
   "source": [
    "exchange_rate_tool = Tool(\n",
    "    function_declarations=[get_exchange_rate_func],\n",
    ")\n",
    "\n",
    "prompt = \"\"\"What is the exchange rate from Australian dollars to Swedish krona?\n",
    "How much is 500 Australian dollars worth in Swedish krona?\"\"\"\n",
    "\n",
    "response = model.generate_content(\n",
    "    prompt,\n",
    "    tools=[exchange_rate_tool],\n",
    ")\n",
    "\n",
    "response.candidates[0].content"
   ]
  },
  {
   "cell_type": "code",
   "execution_count": 4,
   "metadata": {},
   "outputs": [
    {
     "data": {
      "text/plain": [
       "{'from': 'AUD', 'date': 'latest', 'to': 'SEK'}"
      ]
     },
     "execution_count": 4,
     "metadata": {},
     "output_type": "execute_result"
    }
   ],
   "source": [
    "params = {}\n",
    "for key, value in response.candidates[0].content.parts[0].function_call.args.items():\n",
    "    params[key[9:]] = value\n",
    "params"
   ]
  },
  {
   "cell_type": "code",
   "execution_count": 5,
   "metadata": {},
   "outputs": [],
   "source": [
    "import requests\n",
    "url = f\"https://api.frankfurter.app/{params['date']}\"\n",
    "api_response = requests.get(url, params=params)\n",
    "api_response.text\n",
    "\n",
    "response = model.generate_content(\n",
    "    [\n",
    "    Content(role=\"user\", parts=[\n",
    "        Part.from_text(prompt + \"\"\"Give your answer in steps with lots of detail\n",
    "            and context, including the exchange rate and date.\"\"\"),\n",
    "    ]),\n",
    "    Content(role=\"function\", parts=[\n",
    "        Part.from_dict({\n",
    "            \"function_call\": {\n",
    "                \"name\": \"get_exchange_rate\",\n",
    "            }\n",
    "        })\n",
    "    ]),\n",
    "    Content(role=\"function\", parts=[\n",
    "        Part.from_function_response(\n",
    "            name=\"get_exchange_rate\",\n",
    "            response={\n",
    "                \"content\": api_response.text,\n",
    "            }\n",
    "        )\n",
    "    ]),\n",
    "    ],\n",
    "    tools=[exchange_rate_tool],\n",
    ")"
   ]
  },
  {
   "cell_type": "code",
   "execution_count": 6,
   "metadata": {},
   "outputs": [
    {
     "name": "stdout",
     "output_type": "stream",
     "text": [
      "Today's date is 2024-12-05. The exchange rate from Australian dollars (AUD) to Swedish krona (SEK) is 1 AUD to 7.0278 SEK. \n",
      "\n",
      "Therefore, 500 Australian dollars is worth 500 * 7.0278 = 3513.90 Swedish krona. \n",
      "\n"
     ]
    }
   ],
   "source": [
    "print(response.candidates[0].content.parts[0].text)"
   ]
  }
 ],
 "metadata": {
  "kernelspec": {
   "display_name": "Python 3",
   "language": "python",
   "name": "python3"
  },
  "language_info": {
   "codemirror_mode": {
    "name": "ipython",
    "version": 3
   },
   "file_extension": ".py",
   "mimetype": "text/x-python",
   "name": "python",
   "nbconvert_exporter": "python",
   "pygments_lexer": "ipython3",
   "version": "3.10.11"
  }
 },
 "nbformat": 4,
 "nbformat_minor": 2
}
